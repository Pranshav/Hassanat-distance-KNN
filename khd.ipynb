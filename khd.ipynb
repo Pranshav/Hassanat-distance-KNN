{
  "nbformat": 4,
  "nbformat_minor": 0,
  "metadata": {
    "colab": {
      "name": "khd.ipynb",
      "provenance": [],
      "authorship_tag": "ABX9TyNnicNFE8ge58G2WC0DVVzp"
    },
    "kernelspec": {
      "name": "python3",
      "display_name": "Python 3"
    }
  },
  "cells": [
    {
      "cell_type": "markdown",
      "metadata": {
        "id": "51NJpwl_jVg8",
        "colab_type": "text"
      },
      "source": [
        "KNN withhassanat distance metric"
      ]
    },
    {
      "cell_type": "code",
      "metadata": {
        "id": "718LFw3DjNv5",
        "colab_type": "code",
        "colab": {}
      },
      "source": [
        "def HasDist(x, y):\n",
        "    total = 0\n",
        "    for xi, yi in zip(x, y):\n",
        "        min_value = min(xi, yi)\n",
        "        max_value = max(xi, yi)\n",
        "        total += 1 # we sum the 1 in both cases\n",
        "        if min_value >= 0:\n",
        "            total -= (1 + min_value) / (1 + max_value)\n",
        "        else:\n",
        "            # min_value + abs(min_value) = 0, so we ignore that\n",
        "            total -= 1 / (1 + max_value + abs(min_value))\n",
        "    return total"
      ],
      "execution_count": 1,
      "outputs": []
    },
    {
      "cell_type": "markdown",
      "metadata": {
        "id": "K3-b5f1SjbNU",
        "colab_type": "text"
      },
      "source": [
        "iris data"
      ]
    },
    {
      "cell_type": "code",
      "metadata": {
        "id": "XDd7kJnOjawW",
        "colab_type": "code",
        "colab": {
          "base_uri": "https://localhost:8080/",
          "height": 51
        },
        "outputId": "91c3fb55-380a-4a9f-98c5-f4911e482328"
      },
      "source": [
        "from sklearn import datasets\n",
        "from sklearn.model_selection import train_test_split\n",
        "\n",
        "dataset = datasets.load_iris()\n",
        "xt, xs, yt, ys = train_test_split(dataset.data, dataset.target, test_size = 0.2, random_state = 7)\n",
        "print(xt.shape)\n",
        "print(xs.shape)"
      ],
      "execution_count": 2,
      "outputs": [
        {
          "output_type": "stream",
          "text": [
            "(120, 4)\n",
            "(30, 4)\n"
          ],
          "name": "stdout"
        }
      ]
    },
    {
      "cell_type": "markdown",
      "metadata": {
        "id": "mgDGMY4GjwIL",
        "colab_type": "text"
      },
      "source": [
        "test"
      ]
    },
    {
      "cell_type": "code",
      "metadata": {
        "id": "YtbLZAUXkOu0",
        "colab_type": "code",
        "colab": {}
      },
      "source": [
        "from sklearn.metrics import accuracy_score\n",
        "from sklearn.preprocessing import StandardScaler\n",
        "from sklearn.neighbors import KNeighborsClassifier"
      ],
      "execution_count": 3,
      "outputs": []
    },
    {
      "cell_type": "code",
      "metadata": {
        "id": "V4HUsUTgjw3e",
        "colab_type": "code",
        "colab": {
          "base_uri": "https://localhost:8080/",
          "height": 34
        },
        "outputId": "4891c786-abe3-4364-adb7-676abc24dfbc"
      },
      "source": [
        "scaler = StandardScaler()\n",
        "xt = scaler.fit_transform(xt)\n",
        "xs = scaler.transform(xs)\n",
        "    \n",
        "khd = KNeighborsClassifier(n_neighbors=2, metric= HasDist)\n",
        "khd.fit(xt, yt)\n",
        "\n",
        "preds = khd.predict(xs)\n",
        "accuracy_score(ys, preds)"
      ],
      "execution_count": 7,
      "outputs": [
        {
          "output_type": "execute_result",
          "data": {
            "text/plain": [
              "0.7333333333333333"
            ]
          },
          "metadata": {
            "tags": []
          },
          "execution_count": 7
        }
      ]
    }
  ]
}